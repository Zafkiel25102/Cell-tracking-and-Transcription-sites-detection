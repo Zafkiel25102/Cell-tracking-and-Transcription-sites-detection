{
 "cells": [
  {
   "cell_type": "code",
   "execution_count": 78,
   "metadata": {},
   "outputs": [
    {
     "name": "stdout",
     "output_type": "stream",
     "text": [
      "347\n",
      "347\n",
      "(347, 1000, 1000, 1)\n",
      "(347, 1000, 1000, 1)\n"
     ]
    }
   ],
   "source": [
    "import os\n",
    "os.environ['CUDA_VISIBLE_DEVICES'] = '3'\n",
    "\n",
    "import cv2\n",
    "import numpy as np\n",
    "import skimage.io as skio\n",
    "import os\n",
    "\n",
    "root_path = r'/data/sunrui/celldata/20230803-2_HBEC_Yoko_Lib5_G+R-_DL/20230803_B11_F0009/'\n",
    "# file_name = r'10%Laser_300ms_2x2bin.tif'\n",
    "\n",
    "# 读取一系列图像\n",
    "raw_path = root_path + '/01_GT/SAMSEG/'  # 原始图像路径\n",
    "imgfiles = [os.path.join(raw_path, f) for f in os.listdir(raw_path) if f.endswith('.tif') or f.endswith('.tiff')]\n",
    "imgfiles.sort()\n",
    "\n",
    "img_raw = []\n",
    "\n",
    "print(len(imgfiles))\n",
    "for i in range(len(imgfiles)):\n",
    "    img_raw.append(skio.imread(imgfiles[i]).astype(np.uint16))\n",
    "print(len(img_raw))\n",
    "img_raw = np.array(img_raw)\n",
    "print(img_raw.shape)\n",
    "\n",
    "# 创建与图像序列大小相同的空白图像\n",
    "img_post = np.zeros(img_raw.shape, dtype=np.uint8)\n",
    "print(img_post.shape)\n",
    "\n",
    "# 遍历图像序列\n",
    "for i in range(img_raw.shape[0]):\n",
    "    image = img_raw[i, :, :, 0]\n",
    "\n",
    "    # 获取图像的最小灰度值和最大灰度值\n",
    "    min_intensity = np.min(image)\n",
    "    max_intensity = np.max(image)\n",
    "\n",
    "    # 遍历灰度值范围\n",
    "    for intensity in range(min_intensity, max_intensity + 1):\n",
    "        # 创建一个与原始图像大小相同的空白图像\n",
    "        gray_value_image = (image == intensity).astype('uint8') * 255\n",
    "\n",
    "        # 定义结构元素（这里使用3x3的正方形结构元素）\n",
    "        structuring_element = cv2.getStructuringElement(cv2.MORPH_RECT, (3, 3))\n",
    "\n",
    "        # 进行腐蚀操作\n",
    "        eroded_image_0 = cv2.erode(gray_value_image, structuring_element)\n",
    "        eroded_image_1 = cv2.erode(eroded_image_0, structuring_element)\n",
    "        # 进行膨胀操作\n",
    "        dilated_image_0 = cv2.dilate(eroded_image_1, structuring_element)\n",
    "        dilated_image_1 = cv2.dilate(dilated_image_0, structuring_element)\n",
    "\n",
    "        # 计算非零像素的数量（PRE）\n",
    "        non_zero_pixels_pre = np.count_nonzero(gray_value_image)\n",
    "        # print('pre:')\n",
    "        # print(non_zero_pixels_pre)\n",
    "\n",
    "        # 计算非零像素的数量（POST）\n",
    "        non_zero_pixels_post = np.count_nonzero(dilated_image_1)\n",
    "        # print('post:')\n",
    "        # print(non_zero_pixels_post)\n",
    "\n",
    "        # 结果\n",
    "        post_result = (dilated_image_1 / 255) * intensity\n",
    "        post_result = post_result.astype('uint8')\n",
    "        ss = np.max(post_result)\n",
    "        # print('label:')\n",
    "        # print(ss)\n",
    "        # print('...................................................')\n",
    "\n",
    "        # 更新img_post\n",
    "        if non_zero_pixels_post > 850:\n",
    "            img_post[i, :, :, 0] += post_result\n"
   ]
  },
  {
   "cell_type": "code",
   "execution_count": 79,
   "metadata": {},
   "outputs": [
    {
     "name": "stdout",
     "output_type": "stream",
     "text": [
      "(347, 1000, 1000, 1)\n",
      "uint8\n"
     ]
    }
   ],
   "source": [
    "print(img_post.shape)\n",
    "print(img_post.dtype)\n",
    "img_post_16 = img_post.astype(np.uint16)"
   ]
  },
  {
   "cell_type": "code",
   "execution_count": 80,
   "metadata": {},
   "outputs": [
    {
     "name": "stdout",
     "output_type": "stream",
     "text": [
      "61\n",
      "1.7410211873198846\n",
      "0\n"
     ]
    }
   ],
   "source": [
    "print(np.max(img_post_16))\n",
    "print(np.mean(img_post_16))\n",
    "print(np.min(img_post_16))"
   ]
  },
  {
   "cell_type": "code",
   "execution_count": 81,
   "metadata": {},
   "outputs": [
    {
     "data": {
      "image/png": "[encoded data removed]",
      "text/plain": [
       "<Figure size 640x480 with 1 Axes>"
      ]
     },
     "metadata": {},
     "output_type": "display_data"
    }
   ],
   "source": [
    "import skimage.io as skio\n",
    "from tifffile import imread, imwrite\n",
    "import matplotlib.pyplot as plt\n",
    "image_folder =root_path + r'/01_GT/SEG_16/'\n",
    "if not os.path.exists(image_folder):\n",
    "    os.makedirs(image_folder)\n",
    "\n",
    "for i in range(img_post.shape[0]):\n",
    "    image_path = os.path.join(image_folder, f'man_seg{i:03d}.tif')\n",
    "    imwrite(image_path,img_post_16[i,:,:,0])\n",
    "\n",
    "\n",
    "plt.imshow(img_post_16[14,:,:,0])\n",
    "plt.show()"
   ]
  },
  {
   "cell_type": "code",
   "execution_count": 82,
   "metadata": {},
   "outputs": [],
   "source": [
    "# import skimage.io as skio\n",
    "# from tifffile import imread, imwrite\n",
    "# import matplotlib.pyplot as plt\n",
    "# image_folder =root_path + r'/01_GT/SEG_8/'\n",
    "# if not os.path.exists(image_folder):\n",
    "#     os.makedirs(image_folder)\n",
    "\n",
    "# for i in range(img_post.shape[0]):\n",
    "#     image_path = os.path.join(image_folder, f'man_seg{i:03d}.tif')\n",
    "#     imwrite(image_path,img_post[i,:,:,0])\n",
    "\n",
    "\n",
    "# plt.imshow(img_post[14,:,:,0])\n",
    "# plt.show()"
   ]
  },
  {
   "cell_type": "code",
   "execution_count": 83,
   "metadata": {},
   "outputs": [],
   "source": [
    "# plt.imshow(img_post[14,:,:,0])\n",
    "# plt.show()"
   ]
  },
  {
   "cell_type": "code",
   "execution_count": 84,
   "metadata": {},
   "outputs": [],
   "source": [
    "# import cv2\n",
    "# import numpy as np\n",
    "# import skimage.io as skio\n",
    "# from tifffile import imread, imwrite\n",
    "# import matplotlib.pyplot as plt\n",
    "# import os\n",
    "\n",
    "# root_path = r'/data/sunrui/celldata/r03c03f01/'\n",
    "# file_name = r'r03c03f01.tif'\n",
    "\n",
    "# #读取一系列图像\n",
    "# raw_path = root_path + '/01_GT/SAMSEG/'#原始图像路径\n",
    "# imgfiles = [os.path.join(raw_path, f) for f in os.listdir(raw_path) if f.endswith('.tif') or f.endswith('.tiff')]\n",
    "# imgfiles.sort()\n",
    "\n",
    "# img_raw = []\n",
    "\n",
    "# print(len(imgfiles))\n",
    "# for i in range(len(imgfiles)):\n",
    "#     img_raw.append(skio.imread(imgfiles[i]).astype(np.uint16))\n",
    "# print(len(img_raw))\n",
    "# img_raw = np.array(img_raw)\n",
    "# print(img_raw.shape)\n",
    "\n",
    "# img_post = np.zeros(img_raw.shape, dtype= np.uint8)\n",
    "# print(img_post.shape)\n",
    "\n",
    "# image = img_raw[0,:,:,0]\n",
    "# image_post = img_post[0,:,:,0]\n",
    "# # 读取灰度图像\n",
    "# # image = cv2.imread(\"gray_image.jpg\", cv2.IMREAD_GRAYSCALE)\n",
    "\n",
    "# # 获取图像的最小灰度值和最大灰度值\n",
    "# min_intensity = np.min(image)\n",
    "# max_intensity = np.max(image)\n",
    "\n",
    "# # 设置图像框的大小\n",
    "# figure_size = (20, 20)  # 设置为(宽度, 高度)\n",
    "\n",
    "# # image_post = np.zeros(image.shape, dtype = np.uint8)\n",
    "\n",
    "# # 遍历灰度值范围\n",
    "# for intensity in range(min_intensity, max_intensity + 1):\n",
    "#     # 创建一个与原始图像大小相同的空白图像\n",
    "#     gray_value_image = (image == intensity).astype('uint8') * 255\n",
    "\n",
    "#     # 定义结构元素（这里使用3x3的正方形结构元素）\n",
    "#     structuring_element = cv2.getStructuringElement(cv2.MORPH_RECT, (3, 3))\n",
    "\n",
    "#     # 进行腐蚀操作\n",
    "#     eroded_image_0 = cv2.erode(gray_value_image, structuring_element)\n",
    "#     eroded_image_1 = cv2.erode(eroded_image_0, structuring_element)\n",
    "#     # 进行膨胀操作\n",
    "#     dilated_image_0 = cv2.dilate(eroded_image_1, structuring_element)\n",
    "#     dilated_image_1 = cv2.dilate(dilated_image_0, structuring_element)\n",
    "\n",
    "#     # 计算非零像素的数量(PRE)\n",
    "#     non_zero_pixels_pre = np.count_nonzero(gray_value_image)\n",
    "#     print('pre:')\n",
    "#     print(non_zero_pixels_pre)\n",
    "\n",
    "#     # 计算非零像素的数量(POST)\n",
    "#     non_zero_pixels_post = np.count_nonzero(dilated_image_1)\n",
    "#     print('post:')\n",
    "#     print(non_zero_pixels_post)\n",
    "\n",
    "#     #结果\n",
    "#     post_result = (dilated_image_1/255)*intensity\n",
    "#     post_result = post_result.astype('uint8')\n",
    "#     ss = np.max(post_result)\n",
    "#     print('label:')\n",
    "#     print(ss)\n",
    "#     print('...................................................')\n",
    "\n",
    "\n",
    "#     if non_zero_pixels_post > 1000:\n",
    "#         image_post += post_result\n",
    "\n",
    "#     # # 设置图像框的大小\n",
    "#     # plt.figure(figsize=figure_size)\n",
    "\n",
    "#     # # 显示当前灰度值图像\n",
    "#     # plt.subplot(121)\n",
    "#     # plt.imshow(gray_value_image, cmap='gray')\n",
    "#     # plt.axis('off')\n",
    "#     # plt.title(\"Original Image\")\n",
    "\n",
    "#     # # 显示腐蚀和膨胀后的图像\n",
    "#     # plt.subplot(122)\n",
    "#     # plt.imshow(dilated_image_1, cmap='gray')\n",
    "#     # plt.axis('off')\n",
    "#     # plt.title(\"Eroded Image\")\n",
    "\n",
    "#     # plt.show()\n",
    "# # img_post[0,:,:,0] = image_post"
   ]
  }
 ],
 "metadata": {
  "kernelspec": {
   "display_name": "sam",
   "language": "python",
   "name": "python3"
  },
  "language_info": {
   "codemirror_mode": {
    "name": "ipython",
    "version": 3
   },
   "file_extension": ".py",
   "mimetype": "text/x-python",
   "name": "python",
   "nbconvert_exporter": "python",
   "pygments_lexer": "ipython3",
   "version": "3.8.13"
  },
  "orig_nbformat": 4
 },
 "nbformat": 4,
 "nbformat_minor": 2
}
