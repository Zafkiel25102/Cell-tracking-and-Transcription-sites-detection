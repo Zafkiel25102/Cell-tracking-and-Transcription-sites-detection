{
 "cells": [
  {
   "cell_type": "code",
   "execution_count": 109,
   "id": "6e2f9b87",
   "metadata": {},
   "outputs": [],
   "source": [
    "import skimage.io as skio\n",
    "import numpy as np\n",
    "import cv2\n",
    "from tifffile import imread, imwrite\n",
    "\n",
    "import pandas as pd\n",
    "import os\n",
    "import matplotlib.pyplot as plt\n",
    "from skimage.measure import regionprops"
   ]
  },
  {
   "cell_type": "code",
   "execution_count": 110,
   "id": "5ef41701",
   "metadata": {},
   "outputs": [],
   "source": [
    "root_path = r'/data/sunrui/celldata/20231018-SOX2-CELLID-A/1SOX2-CELLID-A//'\n",
    "file_name = r'1SOX2-CELLID-A/.tif'"
   ]
  },
  {
   "cell_type": "code",
   "execution_count": 111,
   "id": "40198191",
   "metadata": {},
   "outputs": [
    {
     "name": "stdout",
     "output_type": "stream",
     "text": [
      "347\n"
     ]
    },
    {
     "name": "stdout",
     "output_type": "stream",
     "text": [
      "347\n",
      "(347, 1000, 1000)\n",
      "347\n",
      "(347, 1000, 1000, 1)\n"
     ]
    }
   ],
   "source": [
    "#读取一系列图像\n",
    "raw_path = root_path + '/01_GT/SEG_16/'#原始图像路径\n",
    "imgfiles = [os.path.join(raw_path, f) for f in os.listdir(raw_path) if f.endswith('.tif') or f.endswith('.tiff')]\n",
    "imgfiles.sort()\n",
    "\n",
    "img_raw = []\n",
    "print(len(imgfiles))\n",
    "for i in range(len(imgfiles)):\n",
    "    img_raw.append(skio.imread(imgfiles[i]).astype(np.uint16))\n",
    "print(len(img_raw))\n",
    "img_raw = np.array(img_raw)\n",
    "print(img_raw.shape)\n",
    "print(img_raw.shape[0])\n",
    "x = np.expand_dims(img_raw,axis = 3)\n",
    "print(x.shape)\n"
   ]
  },
  {
   "cell_type": "code",
   "execution_count": 112,
   "id": "381d4d26",
   "metadata": {},
   "outputs": [],
   "source": [
    "# x = skio.imread(root_path + r'/PRE/test_seg.tif', plugin=\"tifffile\")\n",
    "# print(\"x:\")\n",
    "# print(x.shape)\n",
    "# print(x.dtype)\n",
    "# print(np.max(x))\n",
    "# print(np.min(x))\n",
    "# print(np.mean(x))\n",
    "# x = x.astype(np.uint16)\n",
    "# print(x.dtype)\n",
    "# print(np.max(x))\n",
    "# print(np.min(x))\n",
    "# print(np.mean(x))\n"
   ]
  },
  {
   "cell_type": "code",
   "execution_count": 113,
   "id": "f7ce6f45",
   "metadata": {},
   "outputs": [],
   "source": [
    "all_non_zero = False  # 变量用于记录是否所有图像都不为零\n",
    "\n",
    "while not all_non_zero:\n",
    "    all_non_zero = True  # 假设所有图像都不为零，如果发现全零图像则置为 False\n",
    "    \n",
    "    for i in range(x.shape[0]):\n",
    "        img_curr = x[i]\n",
    "        \n",
    "        if np.max(img_curr) == 0:\n",
    "            if i > 0 and np.max(x[i-1]) > 0:\n",
    "                x[i] = x[i-1].copy()\n",
    "                print('copy img!!')\n",
    "            elif i < x.shape[0] - 1 and np.max(x[i+1]) > 0:\n",
    "                x[i] = x[i+1].copy()\n",
    "                print('copy img!!')\n",
    "            else:\n",
    "                all_non_zero = False  # 存在全零图像，继续迭代\n",
    "        \n",
    "# for i in range(x.shape[0]):\n",
    "#     img_curr = x[i]\n",
    "    \n",
    "#     # 检查当前图像是否全零\n",
    "#     if np.max(img_curr) == 0:\n",
    "#         all_non_zero = False\n",
    "#         break  # 存在全零图像，跳出循环\n",
    "\n",
    "# for i in range(x.shape[0]):\n",
    "#     img_curr = x[i]\n",
    "#     if i==0 and np.max(img_curr)==0 :\n",
    "#         img_curr = x[i+1].copy()\n",
    "#     elif np.max(img_curr) == 0:\n",
    "#         img_curr = x[i-1].copy()\n",
    "#     x[i] = img_curr"
   ]
  },
  {
   "cell_type": "code",
   "execution_count": 114,
   "id": "752b306e",
   "metadata": {},
   "outputs": [],
   "source": [
    "image_folder =root_path + r'01_GT/SEG/'  # 图片保存的文件夹路径\n",
    "if not os.path.exists(image_folder):\n",
    "    os.makedirs(image_folder)\n",
    "\n",
    "for i in range(x.shape[0]):\n",
    "    target = x[i]\n",
    "    image_path = os.path.join(image_folder, f'man_seg{i:03d}.tif')\n",
    "    imwrite(image_path,target)\n"
   ]
  },
  {
   "cell_type": "code",
   "execution_count": 115,
   "id": "adcc7f24",
   "metadata": {},
   "outputs": [
    {
     "name": "stdout",
     "output_type": "stream",
     "text": [
      "y:\n",
      "(347, 1000, 1000)\n",
      "uint16\n"
     ]
    }
   ],
   "source": [
    "y = skio.imread(root_path + r'/01/' + file_name, plugin=\"tifffile\")\n",
    "# y = skio.imread(root_path + file_name, plugin=\"tifffile\")\n",
    "\n",
    "print(\"y:\")\n",
    "print(y.shape)\n",
    "print(y.dtype)"
   ]
  },
  {
   "cell_type": "code",
   "execution_count": 116,
   "id": "82f20417",
   "metadata": {},
   "outputs": [],
   "source": [
    "image_folder_01 =root_path + r'/01/'  # 图片保存的文件夹路径\n",
    "for i in range(y.shape[0]):\n",
    "    target = y[i]\n",
    "    image_path = os.path.join(image_folder_01, f't{i:03d}.tif')\n",
    "    imwrite(image_path,target)\n"
   ]
  },
  {
   "cell_type": "code",
   "execution_count": 117,
   "id": "8eefe398",
   "metadata": {},
   "outputs": [
    {
     "data": {
      "text/plain": [
       "'/data/sunrui/celldata/20230803-2_HBEC_Yoko_Lib5_G+R-_DL/20230803_B11_F0009/20230803_B11_F0009.tif'"
      ]
     },
     "execution_count": 117,
     "metadata": {},
     "output_type": "execute_result"
    }
   ],
   "source": [
    "import shutil\n",
    "shutil.move(root_path + '01/' + file_name, root_path)\n"
   ]
  }
 ],
 "metadata": {
  "kernelspec": {
   "display_name": "seg",
   "language": "python",
   "name": "python3"
  },
  "language_info": {
   "codemirror_mode": {
    "name": "ipython",
    "version": 3
   },
   "file_extension": ".py",
   "mimetype": "text/x-python",
   "name": "python",
   "nbconvert_exporter": "python",
   "pygments_lexer": "ipython3",
   "version": "3.8.13"
  }
 },
 "nbformat": 4,
 "nbformat_minor": 5
}
