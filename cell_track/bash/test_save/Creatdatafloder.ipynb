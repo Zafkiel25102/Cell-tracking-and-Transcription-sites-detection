{
 "cells": [
  {
   "cell_type": "code",
   "execution_count": 2,
   "id": "4a3edfd3",
   "metadata": {},
   "outputs": [],
   "source": [
    "import os\n",
    "import shutil\n",
    "\n",
    "# 获取当前目录\n",
    "current_dir = r'/data/sunrui/celldata/20231018-SOX2-CELLID-A/'\n",
    "# os.getcwd()\n",
    "\n",
    "# 获取以.tif为结尾的文件\n",
    "tif_files = [file for file in os.listdir(current_dir) if file.endswith(\".tif\")]\n",
    "\n",
    "for file in tif_files:\n",
    "    # 获取文件名（不包含扩展名）\n",
    "    file_name = os.path.splitext(file)[0]\n",
    "\n",
    "    # 创建与文件名称相同的文件夹\n",
    "    new_dir = os.path.join(current_dir, file_name)\n",
    "    os.makedirs(new_dir, exist_ok=True)\n",
    "\n",
    "    # 创建01和01_GT文件夹\n",
    "    sub_dir_01 = os.path.join(new_dir, \"01\")\n",
    "    os.makedirs(sub_dir_01, exist_ok=True)\n",
    "\n",
    "    sub_dir_01_gt = os.path.join(new_dir, \"01_GT\")\n",
    "    os.makedirs(sub_dir_01_gt, exist_ok=True)\n",
    "\n",
    "    # 移动文件到01文件夹下\n",
    "    src_file = os.path.join(current_dir, file)\n",
    "    dst_file = os.path.join(sub_dir_01, file)\n",
    "    shutil.move(src_file, dst_file)\n"
   ]
  },
  {
   "cell_type": "code",
   "execution_count": null,
   "id": "26f5d352",
   "metadata": {},
   "outputs": [],
   "source": []
  }
 ],
 "metadata": {
  "kernelspec": {
   "display_name": "deep",
   "language": "python",
   "name": "python3"
  },
  "language_info": {
   "codemirror_mode": {
    "name": "ipython",
    "version": 3
   },
   "file_extension": ".py",
   "mimetype": "text/x-python",
   "name": "python",
   "nbconvert_exporter": "python",
   "pygments_lexer": "ipython3",
   "version": "3.8.13"
  }
 },
 "nbformat": 4,
 "nbformat_minor": 5
}
