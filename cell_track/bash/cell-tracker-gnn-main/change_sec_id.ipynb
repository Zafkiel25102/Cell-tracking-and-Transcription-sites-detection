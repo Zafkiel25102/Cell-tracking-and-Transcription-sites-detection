{
 "cells": [
  {
   "cell_type": "code",
   "execution_count": 21,
   "metadata": {},
   "outputs": [],
   "source": [
    "import os\n",
    "os.environ['CUDA_VISIBLE_DEVICES'] = '6,7'\n",
    "\n",
    "import os\n",
    "import yaml\n",
    "import torch\n",
    "\n",
    "import sys\n",
    "# cur_dir = os.path.split(os.path.abspath(__file__))[0]\n",
    "# con_pth = cur_dir.rsplit('/',2)[0]\n",
    "# sys.path.append(con_pth)\n",
    "from src.models.celltrack_plmodel import CellTrackLitModel\n",
    "from src.inference.graph_dataset_inference import CellTrackDataset\n",
    "import warnings\n",
    "# warnings.filterwarnings(\"ignore\")\n",
    "\n",
    "import os\n",
    "import os.path as osp\n",
    "import torch\n",
    "import pandas as pd\n",
    "import numpy as np\n",
    "from skimage import io\n",
    "import warnings\n",
    "# warnings.filterwarnings(\"ignore\")\n",
    "import imageio"
   ]
  },
  {
   "cell_type": "code",
   "execution_count": 22,
   "metadata": {},
   "outputs": [],
   "source": [
    "model_path = r\"/home/sunrui/cellwork/track/cell-tracker-gnn-main/logs/runs/2023-05-24/12-53-04/checkpoints/epoch=56.ckpt\"\n",
    "num_seq = r\"01\"\n",
    "output_csv = r'/data/sunrui/celldata/r03c06f04ch1/'\n",
    "\n",
    "path_output = output_csv\n",
    "second_path = num_seq\n",
    "path_output_folder = os.path.join(path_output, second_path) + '_RES_inference'"
   ]
  },
  {
   "cell_type": "code",
   "execution_count": 23,
   "metadata": {},
   "outputs": [],
   "source": [
    "file1 = os.path.join(path_output_folder, 'pytorch_geometric_data.pt')\n",
    "file2 = os.path.join(path_output_folder, 'all_data_df.csv')\n",
    "file3 = os.path.join(path_output_folder, 'raw_output.pt')"
   ]
  },
  {
   "cell_type": "code",
   "execution_count": 24,
   "metadata": {},
   "outputs": [],
   "source": [
    "df_data = pd.read_csv(file2)\n",
    "test_data = torch.load(file1)\n",
    "outputs = torch.load(file3)"
   ]
  },
  {
   "cell_type": "code",
   "execution_count": 29,
   "metadata": {},
   "outputs": [
    {
     "name": "stdout",
     "output_type": "stream",
     "text": [
      "Data(x=[16172, 13], edge_index=[2, 241757], x_2=[16172, 128], edge_feat=[241757, 141])\n",
      "tensor([ 18.4344, -20.9180, -16.0451,  ...,  -3.7429, -11.5620,  17.1256])\n"
     ]
    }
   ],
   "source": [
    "print(test_data)\n",
    "print(outputs)"
   ]
  },
  {
   "cell_type": "code",
   "execution_count": 26,
   "metadata": {},
   "outputs": [
    {
     "name": "stdout",
     "output_type": "stream",
     "text": [
      "torch.Size([2, 241757])\n",
      "torch.Size([241757])\n"
     ]
    }
   ],
   "source": [
    "data = test_data\n",
    "edge_index = data.edge_index\n",
    "df_preds = df_data\n",
    "output_pred = outputs\n",
    "decision_threshold = 0.5\n",
    "df = df_preds.copy()\n",
    "print(edge_index.shape)\n",
    "print(output_pred.shape)"
   ]
  },
  {
   "cell_type": "code",
   "execution_count": 27,
   "metadata": {},
   "outputs": [
    {
     "name": "stdout",
     "output_type": "stream",
     "text": [
      "tensor([1, 0, 0,  ..., 0, 0, 1], dtype=torch.int32)\n",
      "torch.Size([2, 20012])\n",
      "torch.Size([20012])\n",
      "tensor([[    0,     1,     2,  ..., 16137, 16139, 16146],\n",
      "        [   53,    55,    54,  ..., 16167, 16154, 16171]])\n",
      "tensor([18.4344, 17.6234, 15.4036,  ..., 16.0671, 17.4865, 17.1256])\n",
      "tensor([[    0,     0,     0,  ..., 16146, 16146, 16146],\n",
      "        [   53,    55,    74,  ..., 16154, 16164, 16171]])\n",
      "tensor([ 18.4344, -20.9180, -16.0451,  ...,  -3.7429, -11.5620,  17.1256])\n"
     ]
    }
   ],
   "source": [
    "\n",
    "              \n",
    "outputs_soft = torch.sigmoid(output_pred)\n",
    "outputs_hard = (outputs_soft > decision_threshold).int()\n",
    "print(outputs_hard)\n",
    "\n",
    "connected_indices = edge_index[:, outputs_hard.bool()]#取出符合要求的边缘\n",
    "output_save_pre = output_pred[outputs_hard.bool()]#取出符合要求的边缘置信度\n",
    "print(connected_indices.shape)\n",
    "print(output_save_pre.shape)\n",
    "\n",
    "print(connected_indices)\n",
    "print(output_save_pre)\n",
    "\n",
    "print(edge_index)\n",
    "print(outputs)\n",
    "\n",
    "# print(edge_index[:,9])\n",
    "# print(outputs[9])\n",
    "# edge_index_see = pd.DataFrame(edge_index)\n",
    "# outputs_see = pd.DataFrame(outputs)\n",
    "# print(edge_index_see)\n",
    "# print(outputs_see)"
   ]
  },
  {
   "cell_type": "code",
   "execution_count": 28,
   "metadata": {},
   "outputs": [
    {
     "name": "stdout",
     "output_type": "stream",
     "text": [
      "tensor([[    0,     1,     2,  ..., 16137, 16139, 16146],\n",
      "        [   53,    55,    54,  ..., 16167, 16154, 16171]])\n",
      "torch.Size([2, 20012])\n",
      "Connected Indices (After Filtering):\n",
      "tensor([[    0,     1,     2,  ..., 16137, 16139, 16146],\n",
      "        [   53,    55,    54,  ..., 16167, 16154, 16171]])\n",
      "torch.Size([2, 15373])\n",
      "tensor([18.4344, 17.6234, 15.4036,  ..., 16.0671, 17.4865, 17.1256])\n",
      "torch.Size([15373])\n"
     ]
    }
   ],
   "source": [
    "\n",
    "outputs_soft = torch.sigmoid(output_pred)\n",
    "outputs_hard = (outputs_soft > decision_threshold).int()\n",
    "print(outputs_hard)\n",
    "\n",
    "connected_indices = edge_index[:, outputs_hard.bool()]#取出符合要求的边缘\n",
    "output_save_pre = output_pred[outputs_hard.bool()]#取出符合要求的边缘置信度\n",
    "print(connected_indices.shape)\n",
    "print(output_save_pre.shape)\n",
    "\n",
    "print(connected_indices)#change\n",
    "print(connected_indices.shape)\n",
    "\n",
    "label_fir = connected_indices[0,:]\n",
    "label_sec = connected_indices[1,:]\n",
    "label_sec_unique = np.unique(label_sec)\n",
    "\n",
    "\n",
    "\n",
    "\n",
    "for label in label_sec_unique:\n",
    "    label_cols = label_sec[label_sec == label]\n",
    "    if label_cols.shape[0] > 1:\n",
    "      \n",
    "        ind_place_col = np.argwhere(label_sec==label)\n",
    "      \n",
    "        curr_position = df.loc[label,[\"centroid_row\", \"centroid_col\"]].values   #第二行的位置\n",
    "        \n",
    "        \n",
    "        x = label_fir[ind_place_col].numpy().squeeze()\n",
    "        first_position = df.loc[x, [\"centroid_row\", \"centroid_col\"]].values     #第一行的位置\n",
    "\n",
    "        distance = ((curr_position - first_position) ** 2).sum(axis=-1)\n",
    "        nearest_cell = np.argmin(distance, axis=-1)\n",
    "        node_remain = x[nearest_cell]     #要保留的ID\n",
    "\n",
    "\n",
    "        delet_id = np.delete(x, np.where(x == node_remain))#需要改数据类型\n",
    "\n",
    "        for del_id in delet_id:\n",
    "            # 使用布尔索引删除连接\n",
    "            delet_mask = np.logical_and(connected_indices[0, :] == del_id, connected_indices[1, :] == label)\n",
    "            delete_indices = np.where(delet_mask)[0]\n",
    "            delete_indices_test = np.where(delet_mask)\n",
    "            connected_indices = np.delete(connected_indices, delete_indices, axis=1)\n",
    "            output_save_pre = np.delete(output_save_pre,delete_indices)\n",
    "\n",
    "        # 使用布尔索引删除连接\n",
    "        # delet_mask = np.logical_and(connected_indices[0, :] == delet_id, connected_indices[1, :] == label)\n",
    "        # # delet_mask = np.logical_and(connected_indices[0, :] == 0, connected_indices[1, :] == 53)\n",
    "        # delete_indices = np.where(delet_mask)[0]\n",
    "        # delete_indices_test = np.where(delet_mask)\n",
    "        # connected_indices = np.delete(connected_indices, delete_indices, axis=1)\n",
    "        \n",
    "        \n",
    "\n",
    "\n",
    "\n",
    "    \n",
    "        # print('label:',label)\n",
    "\n",
    "\n",
    "\n",
    "\n",
    "\n",
    "# 打印结果\n",
    "print(\"Connected Indices (After Filtering):\")\n",
    "print(connected_indices)\n",
    "print(connected_indices.shape)\n",
    "print(output_save_pre)\n",
    "print(output_save_pre.shape)\n",
    "\n",
    "# torch.save(connected_indices, file1)\n",
    "# torch.save(output_save_pre, file3)\n",
    "\n",
    "# next_frame = df.loc[next_frame_ind, [\"centroid_row\", \"centroid_col\"]].values\n",
    "# curr_node = df.loc[i, [\"centroid_row\", \"centroid_col\"]].values\n",
    "\n",
    "# distance = ((next_frame - curr_node) ** 2).sum(axis=-1)\n",
    "# nearest_cell = np.argmin(distance, axis=-1)\n",
    "# # add to the array\n",
    "# next_node_ind = next_frame_ind[nearest_cell]"
   ]
  }
 ],
 "metadata": {
  "kernelspec": {
   "display_name": "cell-tracking-challenge",
   "language": "python",
   "name": "python3"
  },
  "language_info": {
   "codemirror_mode": {
    "name": "ipython",
    "version": 3
   },
   "file_extension": ".py",
   "mimetype": "text/x-python",
   "name": "python",
   "nbconvert_exporter": "python",
   "pygments_lexer": "ipython3",
   "version": "3.8.13"
  },
  "orig_nbformat": 4
 },
 "nbformat": 4,
 "nbformat_minor": 2
}
