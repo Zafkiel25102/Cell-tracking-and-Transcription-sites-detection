{
 "cells": [
  {
   "cell_type": "code",
   "execution_count": 12,
   "metadata": {},
   "outputs": [],
   "source": [
    "import skimage.io as skio\n",
    "import numpy as np\n",
    "import cv2\n",
    "from tifffile import imread, imwrite\n",
    "\n",
    "import pandas as pd\n",
    "import os\n",
    "import matplotlib.pyplot as plt\n",
    "from skimage.measure import regionprops"
   ]
  },
  {
   "cell_type": "code",
   "execution_count": 13,
   "metadata": {},
   "outputs": [
    {
     "name": "stdout",
     "output_type": "stream",
     "text": [
      "(1007,)\n"
     ]
    }
   ],
   "source": [
    "# x = skio.imread(r'D:\\WORK\\RNA\\GAOSEG\\GAOS\\r04c06f01\\SEG\\post_seg.tif', plugin=\"tifffile\")\n",
    "# print(\"x:\")\n",
    "# print(x.shape)\n",
    "# 1\n",
    "root_path = r'/data/sunrui/celldata/r03c06f04ch1/'\n",
    "\n",
    "GT_path = root_path + r'/01_GT/_RES/'#跟踪结果路径\n",
    "files = [os.path.join(GT_path, f) for f in os.listdir(GT_path) if f.endswith('.tif') or f.endswith('.tiff')]\n",
    "files.sort()\n",
    "\n",
    "raw_path = root_path + r'/01/'#原始图像路径\n",
    "imgfiles = [os.path.join(raw_path, f) for f in os.listdir(raw_path) if f.endswith('.tif') or f.endswith('.tiff')]\n",
    "imgfiles.sort()\n",
    "\n",
    "#读取跟踪结果txt\n",
    "track = np.genfromtxt(root_path + r\"/01_GT/_RES/res_track.txt\",dtype=[int, int, int, int])  # 将文件中数据加载到data数组里\n",
    "# print(track.shape[0])\n",
    "# print(track[0])\n",
    "# print(track[0][2])\n",
    "print(track.shape)\n",
    "# print(np.expand_dims(track,axis=1).shape)\n",
    "# track = np.expand_dims(track,axis=1)\n",
    "\n",
    "change_pre = [16171, 2, 46]\n",
    "change_post = [1, 46, 55]"
   ]
  },
  {
   "cell_type": "code",
   "execution_count": 14,
   "metadata": {},
   "outputs": [
    {
     "name": "stdout",
     "output_type": "stream",
     "text": [
      "329\n",
      "329\n",
      "(329, 1080, 1080)\n",
      "329\n"
     ]
    }
   ],
   "source": [
    "img = []\n",
    "print(len(files))\n",
    "for i in range(len(files)):\n",
    "    img.append(skio.imread(files[i]).astype(np.uint16))\n",
    "print(len(img))\n",
    "img = np.array(img)\n",
    "img = img.squeeze()\n",
    "print(img.shape)\n",
    "print(img.shape[0])"
   ]
  },
  {
   "cell_type": "code",
   "execution_count": 15,
   "metadata": {},
   "outputs": [
    {
     "name": "stdout",
     "output_type": "stream",
     "text": [
      "uint16\n"
     ]
    }
   ],
   "source": [
    "print(img.dtype)"
   ]
  },
  {
   "cell_type": "code",
   "execution_count": 16,
   "metadata": {},
   "outputs": [
    {
     "name": "stdout",
     "output_type": "stream",
     "text": [
      "329\n",
      "329\n",
      "(329, 1080, 1080)\n",
      "329\n"
     ]
    }
   ],
   "source": [
    "img_raw = []\n",
    "print(len(imgfiles))\n",
    "for i in range(len(imgfiles)):\n",
    "    img_raw.append(skio.imread(imgfiles[i]).astype(np.uint16))\n",
    "print(len(img_raw))\n",
    "img_raw = np.array(img_raw)\n",
    "print(img_raw.shape)\n",
    "print(img_raw.shape[0])"
   ]
  },
  {
   "cell_type": "code",
   "execution_count": 17,
   "metadata": {},
   "outputs": [],
   "source": [
    "# #生成CSV文件\n",
    "# cols = [\"id\",\"raw_id\",\n",
    "#             \"frame_num\",\n",
    "#             \"area\",\n",
    "#             \"min_row_bb\", \"min_col_bb\", \"max_row_bb\", \"max_col_bb\",\n",
    "#             \"centroid_row\", \"centroid_col\",\n",
    "#             \"major_axis_length\", \"minor_axis_length\",\n",
    "#             \"max_intensity\", \"mean_intensity\", \"min_intensity\"]\n",
    "# print(cols)\n",
    "# num_labels = np.unique(img[0]).shape[0] - 1\n",
    "# df = pd.DataFrame(index=range(num_labels), columns=cols)"
   ]
  },
  {
   "cell_type": "code",
   "execution_count": 18,
   "metadata": {},
   "outputs": [],
   "source": [
    "# def find_id_position(target_id, id_list):\n",
    "#     if target_id in id_list:\n",
    "#         position = id_list.index(target_id)\n",
    "#         return position\n",
    "#     else:\n",
    "#         return None\n",
    "\n",
    "\n",
    "# #生成CSV文件（包含单个细胞的数据）\n",
    "# for io_num in range(img.shape[0]):\n",
    "#     #print(io_num)\n",
    "#     result = img[io_num]\n",
    "#     for ind, id_res in enumerate(np.unique(result)):\n",
    "#         row_ind = ind-1\n",
    "#         if id_res == 0:\n",
    "#             continue\n",
    "\n",
    "#         if id_res in change_pre:\n",
    "            \n",
    "#             ind_place = find_id_position(id_res,change_pre)\n",
    "#             result[id_res] = change_post[ind_place]\n",
    "            \n",
    "\n",
    "        \n",
    "#         properties = regionprops(np.uint16(result == id_res), result)[0]\n",
    "\n",
    "#         df.loc[row_ind, \"id\"] = id_res\n",
    "#         df.loc[row_ind, \"raw_id\"] = id_res\n",
    "#         df.loc[row_ind, \"area\"] = properties.area\n",
    "\n",
    "#         bbox_min_row, bbox_min_col, bbox_max_row, bbox_max_col = properties.bbox\n",
    "#         df.loc[row_ind, \"min_row_bb\"] = bbox_min_row\n",
    "#         df.loc[row_ind, \"min_col_bb\"] = bbox_min_col\n",
    "#         df.loc[row_ind, \"max_row_bb\"] = bbox_max_row\n",
    "#         df.loc[row_ind, \"max_col_bb\"] = bbox_max_col\n",
    "#         # df.loc[row_ind, \"min_row_bb\"], df.loc[row_ind, \"min_col_bb\"], \\\n",
    "#         # df.loc[row_ind, \"max_row_bb\"], df.loc[row_ind, \"max_col_bb\"] = properties.bbox\n",
    "\n",
    "#         df.loc[row_ind, \"centroid_row\"], df.loc[row_ind, \"centroid_col\"] = \\\n",
    "#             properties.centroid[0].round().astype(np.int16), \\\n",
    "#             properties.centroid[1].round().astype(np.int16)\n",
    "\n",
    "#         df.loc[row_ind, \"major_axis_length\"], df.loc[row_ind, \"minor_axis_length\"] = \\\n",
    "#             properties.major_axis_length, properties.minor_axis_length\n",
    "\n",
    "#         df.loc[row_ind, \"max_intensity\"], df.loc[row_ind, \"mean_intensity\"], df.loc[row_ind, \"min_intensity\"] = \\\n",
    "#             properties.max_intensity, properties.mean_intensity, properties.min_intensity\n",
    "\n",
    "#     df.loc[:, \"frame_num\"] = int(io_num)\n",
    "    \n",
    "#     # df.to_csv(root_path + r'/01_GT/_RES/TRA_'+str(io_num)+'.csv', index=False)"
   ]
  },
  {
   "cell_type": "code",
   "execution_count": 19,
   "metadata": {},
   "outputs": [],
   "source": [
    "from tifffile import imread, imwrite\n",
    "\n"
   ]
  },
  {
   "cell_type": "code",
   "execution_count": 20,
   "metadata": {},
   "outputs": [],
   "source": [
    "def find_id_position(target_id, id_list):\n",
    "    if target_id in id_list:\n",
    "        position = id_list.index(target_id)\n",
    "        return position\n",
    "    else:\n",
    "        return None\n",
    "\n",
    "# # 示例列表和目标ID\n",
    "# change_pre = [101, 102, 103, 104, 105]\n",
    "# target_id = 103\n",
    "\n",
    "# # 调用函数并获取相对位置\n",
    "# position = find_id_position(target_id, change_pre)\n",
    "\n",
    "# if position is not None:\n",
    "#     print(f\"ID {target_id} 在列表中，相对位置是 {position}.\")\n",
    "# else:\n",
    "#     print(f\"ID {target_id} 不在列表中.\")\n"
   ]
  },
  {
   "cell_type": "code",
   "execution_count": 21,
   "metadata": {},
   "outputs": [],
   "source": [
    "# change_pre = [12,45,36]\n",
    "# change_post = [15,46,55]\n",
    "# img_post = np.zeros(img.shape, dtype=np.uint16)\n",
    "\n",
    "\n",
    "# for io_num in range(img.shape[0]):\n",
    "#     #print(io_num)\n",
    "#     result = img[io_num]\n",
    "#     for ind, id_res in enumerate(np.unique(result)):\n",
    "#         row_ind = ind-1\n",
    "#         if id_res == 0:\n",
    "#             continue\n",
    "\n",
    "#         if id_res in change_pre:\n",
    "            \n",
    "#             ind_place = find_id_position(id_res,change_pre)\n",
    "#             if ind_place is not None:\n",
    "#                 result[result == id_res] = change_post[ind_place]\n",
    "    \n",
    "#     img_post[io_num] = result\n",
    "\n",
    "\n",
    "# # for i in range(img.shape[0]):\n",
    "# #     image_path = os.path.join(GT_path, f'mask{i:03d}.tif')\n",
    "# #     imwrite(image_path,img_post[i,:,:,0])\n",
    "\n",
    "\n"
   ]
  },
  {
   "cell_type": "code",
   "execution_count": 22,
   "metadata": {},
   "outputs": [],
   "source": [
    "# import numpy as np\n",
    "\n",
    "\n",
    "\n",
    "\n",
    "# # 假设 find_id_position 函数已经定义\n",
    "# def find_id_position(target_id, id_list):\n",
    "#     if target_id in id_list:\n",
    "#         position = id_list.index(target_id)\n",
    "#         return position\n",
    "#     else:\n",
    "#         return None\n",
    "\n",
    "# # 示例数据\n",
    "# # track = np.array([\n",
    "# #     [12, 34, 56, 78],\n",
    "# #     [45, 67, 89, 12],\n",
    "# #     [23, 12, 34, 56],\n",
    "# #     [12, 34, 56, 12]\n",
    "# # ])\n",
    "\n",
    "# change_pre = [12, 45, 36]\n",
    "# change_post = [15, 46, 55]\n",
    "\n",
    "# for i in range(track.shape[0]):\n",
    "#     id_label0 = track[i][0]\n",
    "\n",
    "#     if id_label0 in change_pre:\n",
    "#         ti = track[i][1]\n",
    "#         te = track[i][2]\n",
    "#         tp = track[i][3]\n",
    "#         ind_place = find_id_position(id_label0, change_pre)\n",
    "#         id_label1 = change_post[ind_place]\n",
    "        \n",
    "#         matching_rows = track[track[:, 0] == id_label1]\n",
    "        \n",
    "#         if matching_rows.size > 0:\n",
    "#             ti_raw = matching_rows[0, 1]\n",
    "#             te_raw = matching_rows[0, 2]\n",
    "\n",
    "#             if ti > ti_raw:\n",
    "#                 tp = matching_rows[0, 3]\n",
    "            \n",
    "            \n",
    "#             ti = min(ti, ti_raw)\n",
    "#             te = max(te, te_raw)\n",
    "\n",
    "#         track[i][0] = id_label1\n",
    "#         track[i][1] = ti\n",
    "#         track[i][2] = te\n",
    "#         track[i][3] = tp\n",
    "\n",
    "# # 打印处理后的 track\n",
    "# print(track)\n"
   ]
  },
  {
   "cell_type": "code",
   "execution_count": 23,
   "metadata": {},
   "outputs": [
    {
     "data": {
      "text/plain": [
       "16171"
      ]
     },
     "execution_count": 23,
     "metadata": {},
     "output_type": "execute_result"
    }
   ],
   "source": [
    "track[0][0]"
   ]
  },
  {
   "cell_type": "code",
   "execution_count": 24,
   "metadata": {},
   "outputs": [
    {
     "data": {
      "text/plain": [
       "array([(16171,   0,  36,     0), (    1,   0, 151,     0),\n",
       "       (    2,   0,   1,     0), ..., (16168, 328, 328, 16123),\n",
       "       (16169, 328, 328, 16145), (16170, 328, 328, 16112)],\n",
       "      dtype=[('f0', '<i8'), ('f1', '<i8'), ('f2', '<i8'), ('f3', '<i8')])"
      ]
     },
     "execution_count": 24,
     "metadata": {},
     "output_type": "execute_result"
    }
   ],
   "source": [
    "track"
   ]
  },
  {
   "cell_type": "code",
   "execution_count": 25,
   "metadata": {},
   "outputs": [
    {
     "name": "stdout",
     "output_type": "stream",
     "text": [
      "[(16171,   0,  36,     0) (    1,   0, 151,     0)\n",
      " (    2,   0,   1,     0) ... (16168, 328, 328, 16123)\n",
      " (16169, 328, 328, 16145) (16170, 328, 328, 16112)]\n"
     ]
    }
   ],
   "source": [
    "print(track)"
   ]
  },
  {
   "cell_type": "code",
   "execution_count": 26,
   "metadata": {},
   "outputs": [
    {
     "name": "stdout",
     "output_type": "stream",
     "text": [
      "处理后的 track 数组已保存为 processed_track.txt\n"
     ]
    },
    {
     "data": {
      "text/plain": [
       "array([( 1, 0, 151, 0), (46, 0,   1, 0)],\n",
       "      dtype=[('f0', '<i8'), ('f1', '<i8'), ('f2', '<i8'), ('f3', '<i8')])"
      ]
     },
     "execution_count": 26,
     "metadata": {},
     "output_type": "execute_result"
    }
   ],
   "source": [
    "import numpy as np\n",
    "\n",
    "# track = np.genfromtxt(root_path + r\"/01_GT/_RES/res_track.txt\",dtype=[int, int, int, int])  # 将文件中数据加载到data数组里\n",
    "\n",
    "# for row in track:\n",
    "#     print(f\"ID: {row[0]}, TI: {row[1]}, TE: {row[2]}, TP: {row[3]}\")\n",
    "\n",
    "# 假设 find_id_position 函数已经定义\n",
    "def find_id_position(target_id, id_list):\n",
    "    if target_id in id_list:\n",
    "        position = id_list.index(target_id)\n",
    "        return position\n",
    "    else:\n",
    "        return None\n",
    "\n",
    "# 示例数据\n",
    "track = np.array([\n",
    "    (16171,   0,  36,     0),\n",
    "    (    1,   0, 151,     0),\n",
    "    (    2,   0,   1,     0),\n",
    "    # ... 其他数据\n",
    "], dtype=[('f0', '<i8'), ('f1', '<i8'), ('f2', '<i8'), ('f3', '<i8')])\n",
    "\n",
    "\n",
    "\n",
    "for i in range(track.shape[0]):\n",
    "    id_label0 = track['f0'][i]\n",
    "\n",
    "    if id_label0 in change_pre:\n",
    "        ti = track['f1'][i]\n",
    "        te = track['f2'][i]\n",
    "        tp = track['f3'][i]\n",
    "        ind_place = find_id_position(id_label0, change_pre)\n",
    "        id_label1 = change_post[ind_place]\n",
    "        \n",
    "        matching_indices = np.where(track['f0'] == id_label1)[0]\n",
    "        \n",
    "        if matching_indices.size > 0:\n",
    "            ti_raw = track['f1'][matching_indices[0]]\n",
    "            te_raw = track['f2'][matching_indices[0]]\n",
    "\n",
    "            if ti > ti_raw:\n",
    "                tp = track['f3'][matching_indices[0]]\n",
    "            \n",
    "            ti = min(ti, ti_raw)\n",
    "            te = max(te, te_raw)\n",
    "\n",
    "        track['f0'][i] = id_label1\n",
    "        track['f1'][i] = ti\n",
    "        track['f2'][i] = te\n",
    "        track['f3'][i] = tp\n",
    "\n",
    "# 打印处理后的 track\n",
    "# for row in track:\n",
    "#     print(f\"ID: {row[0]}, TI: {row[1]}, TE: {row[2]}, TP: {row[3]}\")\n",
    "\n",
    "unique_labels = np.unique(track['f0'])\n",
    "# 对每个 id_label 进行处理\n",
    "for label in unique_labels:\n",
    "    label_rows = track[track['f0'] == label]\n",
    "    \n",
    "    if label_rows.shape[0] > 1:  # 至少有两行才需要处理\n",
    "        differences = label_rows['f2'] - label_rows['f1']\n",
    "        max_difference_index = np.argmax(differences)\n",
    "        \n",
    "        # 如果存在多个最大差值行，选择其中一个\n",
    "        max_difference_indices = np.where(differences == differences[max_difference_index])[0]\n",
    "        chosen_index = max_difference_indices[0]  # 选择第一个索引\n",
    "        \n",
    "        # 删除所有较小的行，只保留一个最大差值的行\n",
    "        indices_to_delete = np.delete(max_difference_indices, chosen_index)\n",
    "        track = np.delete(track, np.where(track['f0'] == label)[0][indices_to_delete], axis=0)\n",
    "\n",
    "\n",
    "\n",
    "# 保存处理后的数据为文本文件\n",
    "\n",
    "# np.savetxt(root_path + r\"/01_GT/_RES/\" + r\"/processed_track.txt\", track, fmt='%d')\n",
    "\n",
    "print(\"处理后的 track 数组已保存为 processed_track.txt\")\n",
    "track"
   ]
  }
 ],
 "metadata": {
  "kernelspec": {
   "display_name": "cell-tracking-challenge",
   "language": "python",
   "name": "python3"
  },
  "language_info": {
   "codemirror_mode": {
    "name": "ipython",
    "version": 3
   },
   "file_extension": ".py",
   "mimetype": "text/x-python",
   "name": "python",
   "nbconvert_exporter": "python",
   "pygments_lexer": "ipython3",
   "version": "3.8.13"
  },
  "orig_nbformat": 4
 },
 "nbformat": 4,
 "nbformat_minor": 2
}
