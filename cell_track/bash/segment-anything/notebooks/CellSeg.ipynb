{
 "cells": [
  {
   "cell_type": "code",
   "execution_count": 1,
   "metadata": {},
   "outputs": [],
   "source": [
    "import os\n",
    "os.environ['CUDA_VISIBLE_DEVICES'] = '7'\n",
    "\n",
    "import numpy as np\n",
    "import torch\n",
    "import matplotlib.pyplot as plt\n",
    "import cv2"
   ]
  },
  {
   "cell_type": "code",
   "execution_count": 2,
   "metadata": {},
   "outputs": [],
   "source": [
    "root_path = r'/data/sunrui/celldata/20230824_HBEC_test_DL/8%Laser_400ms_1x1bin/'\n",
    "file_name = r'8%Laser_400ms_1x1bin.tif'"
   ]
  },
  {
   "cell_type": "code",
   "execution_count": 3,
   "metadata": {},
   "outputs": [],
   "source": [
    "def show_anns(anns):\n",
    "    if len(anns) == 0:\n",
    "        return\n",
    "    # 按面积大小对注释进行排序\n",
    "    sorted_anns = sorted(anns, key=(lambda x: x['area']), reverse=True)\n",
    "    img_shape = (sorted_anns[0]['segmentation'].shape[0], sorted_anns[0]['segmentation'].shape[1],1)\n",
    "\n",
    "\n",
    "    \n",
    "    # 创建一个空白图像\n",
    "    # img = np.ones((sorted_anns[0]['segmentation'].shape[0], sorted_anns[0]['segmentation'].shape[1], 4))\n",
    "    img = np.zeros(img_shape, dtype=np.uint8)\n",
    "    img[:,:,0] = 0\n",
    "    for i, ann in enumerate(sorted_anns):\n",
    "        mask_thresholdU = 12000\n",
    "        mask_thresholdD = 1000\n",
    "        mask_area = ann['area']\n",
    "        m = ann['segmentation']\n",
    "        if(mask_area < mask_thresholdU and mask_area > mask_thresholdD):\n",
    "            # gray_value = 2*i + 1\n",
    "            gray_value = i + 1\n",
    "            # color_mask = np.concatenate([np.random.random(3), [0.35]])\n",
    "            img[m] = gray_value\n",
    "        \n",
    "        \n",
    "        # print(img.shape)\n",
    "    img = img\n",
    "    \n",
    "    return img"
   ]
  },
  {
   "cell_type": "code",
   "execution_count": 4,
   "metadata": {},
   "outputs": [],
   "source": [
    "import sys\n",
    "sys.path.append(\"..\")\n",
    "from segment_anything import sam_model_registry, SamAutomaticMaskGenerator, SamPredictor\n",
    "\n",
    "sam_checkpoint = \"sam_vit_h_4b8939.pth\"\n",
    "model_type = \"vit_h\"\n",
    "\n",
    "device = \"cuda\"\n",
    "\n",
    "sam = sam_model_registry[model_type](checkpoint=sam_checkpoint)\n",
    "sam.to(device=device)\n",
    "\n",
    "mask_generator = SamAutomaticMaskGenerator(\n",
    "    sam,\n",
    "    pred_iou_thresh = 0.88,\n",
    "    crop_overlap_ratio=0,\n",
    "    min_mask_region_area = 1000,\n",
    "    )"
   ]
  },
  {
   "cell_type": "code",
   "execution_count": 5,
   "metadata": {},
   "outputs": [
    {
     "name": "stdout",
     "output_type": "stream",
     "text": [
      "(355, 2000, 2000, 1)\n",
      "uint8\n"
     ]
    }
   ],
   "source": [
    "# image = cv2.imread('images/dog.jpg')\n",
    "# image = cv2.cvtColor(image, cv2.COLOR_BGR2RGB)\n",
    "import skimage.io as skio\n",
    "from tifffile import imread, imwrite\n",
    "\n",
    "# #读取一系列图像\n",
    "# raw_path = root_path#原始图像路径\n",
    "# imgfiles = [os.path.join(raw_path, f) for f in os.listdir(raw_path) if f.endswith('.tif') or f.endswith('.tiff')]\n",
    "# imgfiles.sort()\n",
    "\n",
    "# img_raw = []\n",
    "# print(len(imgfiles))\n",
    "# for i in range(len(imgfiles)):\n",
    "#     img_raw.append(skio.imread(imgfiles[i]).astype(np.uint16))\n",
    "# print(len(img_raw))\n",
    "# img_raw = np.array(img_raw)\n",
    "# print(img_raw.shape)\n",
    "# print(img_raw.shape[0])\n",
    "\n",
    "\n",
    "img_raw = skio.imread(root_path + r'/PRE/test.tif',plugin=\"tifffile\")\n",
    "# img_raw = skio.imread(root_path + r'/PRE/test_seg.tif',plugin=\"tifffile\")\n",
    "print(img_raw.shape)\n",
    "# img_raw = np.expand_dims(img_raw,axis=3)\n",
    "# x = np.expand_dims(x,axis=3)\n",
    "print(img_raw.dtype)\n",
    "\n",
    "# #uint16转uint8\n",
    "# max_val = np.max(img_raw)\n",
    "# min_val = np.min(img_raw)\n",
    "\n",
    "# # 归一化处理\n",
    "# arr_normalized = (img_raw - min_val) * 255 / (max_val - min_val)\n",
    "\n",
    "# # 将归一化后的数组转换为 uint8 类型\n",
    "# arr_uint8 = arr_normalized.astype(np.uint8)\n",
    "\n",
    "img = img_raw\n"
   ]
  },
  {
   "cell_type": "code",
   "execution_count": 6,
   "metadata": {},
   "outputs": [
    {
     "name": "stderr",
     "output_type": "stream",
     "text": [
      "/home/sunrui/cellwork/sam/segment-anything/segment_anything/utils/amg.py:118: UserWarning: This overload of nonzero is deprecated:\n",
      "\tnonzero()\n",
      "Consider using one of the following signatures instead:\n",
      "\tnonzero(*, bool as_tuple) (Triggered internally at  /opt/conda/conda-bld/pytorch_1607370172916/work/torch/csrc/utils/python_arg_parser.cpp:882.)\n",
      "  change_indices = diff.nonzero()\n"
     ]
    }
   ],
   "source": [
    "\n",
    "image_folder =root_path + r'/01_GT/SAMSEG/'\n",
    "if not os.path.exists(image_folder):\n",
    "    os.makedirs(image_folder)\n",
    "\n",
    "for i in range(img.shape[0]):\n",
    "# for i in range(1):\n",
    "    image = img[i]\n",
    "    #uint16转换为uint8\n",
    "    # uint16_img = image\n",
    "    # uint16_img -= image.min()\n",
    "    # uint16_img = uint16_img / (uint16_img.max()-uint16_img.min())\n",
    "    # uint16_img *= 255\n",
    "    # uint8_img = np.uint8(uint16_img)\n",
    "\n",
    "    image = cv2.cvtColor(image,cv2.COLOR_GRAY2RGB)\n",
    "\n",
    "    # image = image.astype('uint8')\n",
    "    # image = cv2.imread(r'/data/sunrui/celldata/20230414_hesc_Mixl1_yy/r03c03f01/01/t000.tif')\n",
    "    # image = imread(r'/data/sunrui/celldata/20230414_hesc_Mixl1_yy/r03c03f01/01/t000.tif')\n",
    "\n",
    "    # print(image.dtype)\n",
    "    # print(image.shape)\n",
    "    # print('-------------------------------------------------------')\n",
    "\n",
    "    #生成masks\n",
    "    masks = mask_generator.generate(image)\n",
    "    mask_result = show_anns(masks)\n",
    "    # print(mask_result.shape)\n",
    "\n",
    "    # 图片保存的文件夹路径\n",
    "    \n",
    "    image_path = os.path.join(image_folder, f'man_seg{i:03d}.tif')\n",
    "    imwrite(image_path,mask_result)"
   ]
  },
  {
   "cell_type": "code",
   "execution_count": 7,
   "metadata": {},
   "outputs": [
    {
     "name": "stdout",
     "output_type": "stream",
     "text": [
      "(2000, 2000, 1)\n",
      "uint8\n"
     ]
    }
   ],
   "source": [
    "print(mask_result.shape)\n",
    "print(mask_result.dtype)"
   ]
  },
  {
   "cell_type": "code",
   "execution_count": null,
   "metadata": {},
   "outputs": [],
   "source": []
  }
 ],
 "metadata": {
  "kernelspec": {
   "display_name": "sam",
   "language": "python",
   "name": "python3"
  },
  "language_info": {
   "codemirror_mode": {
    "name": "ipython",
    "version": 3
   },
   "file_extension": ".py",
   "mimetype": "text/x-python",
   "name": "python",
   "nbconvert_exporter": "python",
   "pygments_lexer": "ipython3",
   "version": "3.8.16"
  },
  "orig_nbformat": 4
 },
 "nbformat": 4,
 "nbformat_minor": 2
}
